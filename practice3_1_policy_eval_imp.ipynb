{
 "cells": [
  {
   "cell_type": "code",
   "execution_count": 95,
   "id": "662a0d72-53ce-4e05-b719-761353be9e45",
   "metadata": {},
   "outputs": [],
   "source": [
    "from Frozen_Lake import FrozenLakeEnv\n",
    "import numpy as np\n",
    "import time\n",
    "env = FrozenLakeEnv()"
   ]
  },
  {
   "cell_type": "code",
   "execution_count": 2,
   "id": "32aa2529-214b-4065-aa2e-df90ab938f63",
   "metadata": {},
   "outputs": [
    {
     "data": {
      "text/plain": [
       "((0, 0),\n",
       " (0, 1),\n",
       " (0, 2),\n",
       " (0, 3),\n",
       " (1, 0),\n",
       " (1, 1),\n",
       " (1, 2),\n",
       " (1, 3),\n",
       " (2, 0),\n",
       " (2, 1),\n",
       " (2, 2),\n",
       " (2, 3),\n",
       " (3, 0),\n",
       " (3, 1),\n",
       " (3, 2),\n",
       " (3, 3))"
      ]
     },
     "execution_count": 2,
     "metadata": {},
     "output_type": "execute_result"
    }
   ],
   "source": [
    "env.get_all_states()"
   ]
  },
  {
   "cell_type": "markdown",
   "id": "a564e0a0-ea4a-4468-9a7f-abcf11af665c",
   "metadata": {},
   "source": [
    "Видим поле 4 на 4"
   ]
  },
  {
   "cell_type": "code",
   "execution_count": 8,
   "id": "925b8f8d-4bba-449d-82ab-0a45d4740a73",
   "metadata": {},
   "outputs": [
    {
     "data": {
      "text/plain": [
       "('left', 'down', 'right', 'up')"
      ]
     },
     "execution_count": 8,
     "metadata": {},
     "output_type": "execute_result"
    }
   ],
   "source": [
    "state = (0, 1)\n",
    "env.get_possible_actions(state)"
   ]
  },
  {
   "cell_type": "code",
   "execution_count": 9,
   "id": "340a2c0c-ab15-4c11-bbc2-6eb0d445e229",
   "metadata": {},
   "outputs": [
    {
     "name": "stdout",
     "output_type": "stream",
     "text": [
      "*FFF\n",
      "FHFH\n",
      "FFFH\n",
      "HFFG\n",
      "\n"
     ]
    }
   ],
   "source": [
    "env.render() #поле наше 4 х 4"
   ]
  },
  {
   "cell_type": "code",
   "execution_count": 10,
   "id": "550fd5f5-b76e-4faf-983a-2f8ee6557aa5",
   "metadata": {},
   "outputs": [
    {
     "data": {
      "text/plain": [
       "{(1, 1): 0.1, (0, 2): 0.8, (0, 1): 0.1}"
      ]
     },
     "execution_count": 10,
     "metadata": {},
     "output_type": "execute_result"
    }
   ],
   "source": [
    "state = (0, 1)\n",
    "action = 'right'\n",
    "env.get_next_states(state, action) "
   ]
  },
  {
   "cell_type": "markdown",
   "id": "26e75e37-261b-46d9-9898-eac0a5b51e5f",
   "metadata": {},
   "source": [
    "В какое состояние перейти можем и с какой вероятностью"
   ]
  },
  {
   "cell_type": "code",
   "execution_count": 11,
   "id": "456f5f22-adab-469e-8aba-b2c16c0280c6",
   "metadata": {},
   "outputs": [
    {
     "data": {
      "text/plain": [
       "0.8"
      ]
     },
     "execution_count": 11,
     "metadata": {},
     "output_type": "execute_result"
    }
   ],
   "source": [
    "next_state = (0, 2)\n",
    "env.get_transition_prob(state, action, next_state) #returns probability to enter s' from s acting with a"
   ]
  },
  {
   "cell_type": "code",
   "execution_count": 12,
   "id": "f0d1aa85-794a-42e9-acc7-647f001cf97d",
   "metadata": {},
   "outputs": [
    {
     "data": {
      "text/plain": [
       "0.0"
      ]
     },
     "execution_count": 12,
     "metadata": {},
     "output_type": "execute_result"
    }
   ],
   "source": [
    "env.get_reward(state, action, next_state) # зависит только от next_state"
   ]
  },
  {
   "cell_type": "code",
   "execution_count": 20,
   "id": "17d20776-6d40-4eec-8064-d2446c43dcd4",
   "metadata": {},
   "outputs": [
    {
     "data": {
      "text/plain": [
       "True"
      ]
     },
     "execution_count": 20,
     "metadata": {},
     "output_type": "execute_result"
    }
   ],
   "source": [
    "state = (1, 1)\n",
    "env.is_terminal(state) # true if no possible  actions"
   ]
  },
  {
   "cell_type": "markdown",
   "id": "908deb2c-e2b3-4df0-8c77-6e25717e3481",
   "metadata": {},
   "source": []
  },
  {
   "cell_type": "code",
   "execution_count": 64,
   "id": "660b6d2f-7cae-4af8-a21d-9de3164b6434",
   "metadata": {},
   "outputs": [],
   "source": [
    "def get_q_values(v_values, gamma):\n",
    "    q_values = {}\n",
    "    for state in env.get_all_states():\n",
    "        q_values[state] = {}\n",
    "        for action in env.get_possible_actions(state):\n",
    "            q_values[state][action] = 0\n",
    "            for next_state in env.get_next_states(state, action):\n",
    "                q_values[state][action] += env.get_transition_prob(state, action, next_state) * env.get_reward(state, action, next_state)\n",
    "                q_values[state][action] += gamma * env.get_transition_prob(state, action, next_state) * v_values[next_state]\n",
    "    return q_values"
   ]
  },
  {
   "cell_type": "code",
   "execution_count": 65,
   "id": "0307eaba-2314-4eb2-9743-183d3a7d4869",
   "metadata": {},
   "outputs": [],
   "source": [
    "def init_policy():\n",
    "    policy = {}\n",
    "    for state in env.get_all_states():\n",
    "        policy[state] = {}\n",
    "        for action in env.get_possible_actions(state):\n",
    "            policy[state][action] = 1 / len(env.get_possible_actions(state))\n",
    "    return policy"
   ]
  },
  {
   "cell_type": "code",
   "execution_count": 66,
   "id": "205ba4c3-6cdc-45ef-b88a-45c5aa0edcc1",
   "metadata": {},
   "outputs": [],
   "source": [
    "def init_v_values():\n",
    "    v_values = {}\n",
    "    for state in env.get_all_states():\n",
    "        v_values[state] = 0\n",
    "    return v_values"
   ]
  },
  {
   "cell_type": "code",
   "execution_count": 67,
   "id": "39e10db9-29fb-4017-a546-5f4dc8f79a55",
   "metadata": {},
   "outputs": [],
   "source": [
    "def policy_eval_step(v_values, gamma, policy): # inner cycle in policy eval\n",
    "    q_values = get_q_values(v_values, gamma)\n",
    "    new_values = init_v_values()\n",
    "    for state in env.get_all_states():\n",
    "        new_values[state] = 0\n",
    "        for action in env.get_possible_actions(state):\n",
    "            new_values[state] += policy[state][action] * q_values[state][action]\n",
    "    return new_values"
   ]
  },
  {
   "cell_type": "code",
   "execution_count": 68,
   "id": "4d523897-291f-4ec4-aeb2-8aed3c07894e",
   "metadata": {},
   "outputs": [],
   "source": [
    "def policy_eval(policy, gamma, eval_iter_n):\n",
    "    v_values = init_v_values()\n",
    "    for _ in range(eval_iter_n):\n",
    "        v_values = policy_eval_step(v_values, gamma, policy)\n",
    "        q_values = get_q_values(v_values, gamma)\n",
    "    return q_values"
   ]
  },
  {
   "cell_type": "code",
   "execution_count": 76,
   "id": "ee50e593-837e-4efa-be7a-6850d25d377d",
   "metadata": {},
   "outputs": [],
   "source": [
    "def policy_improvement(q_values):\n",
    "    policy = {}\n",
    "    for state in env.get_all_states():\n",
    "        policy[state] = {}\n",
    "        max_q_value = float('-inf')\n",
    "        argmax_action = None\n",
    "        for action in env.get_possible_actions(state):\n",
    "            policy[state][action] = 0\n",
    "            if q_values[state][action] > max_q_value:\n",
    "                max_q_value = q_values[state][action]\n",
    "                argmax_action = action\n",
    "        policy[state][argmax_action] = 1\n",
    "    return policy"
   ]
  },
  {
   "cell_type": "code",
   "execution_count": 98,
   "id": "4e0ffcc2-cfc3-46b6-a0c0-472c24f16c03",
   "metadata": {},
   "outputs": [],
   "source": [
    "iter_n = 20 #iterations of alg\n",
    "eval_iter_n = 20 #iterations in policy evaluation step\n",
    "gamma = .9\n",
    "\n",
    "policy = init_policy()\n",
    "for _ in range(iter_n):\n",
    "    q_values = policy_eval(policy, gamma, eval_iter_n)\n",
    "    policy = policy_improvement(q_values)"
   ]
  },
  {
   "cell_type": "code",
   "execution_count": 99,
   "id": "07b20715-b5cc-422e-a6a8-5eeb47845f35",
   "metadata": {},
   "outputs": [
    {
     "data": {
      "text/plain": [
       "{(0, 0): {'left': 0, 'down': 1, 'right': 0, 'up': 0},\n",
       " (0, 1): {'left': 0, 'down': 0, 'right': 1, 'up': 0},\n",
       " (0, 2): {'left': 0, 'down': 1, 'right': 0, 'up': 0},\n",
       " (0, 3): {'left': 1, 'down': 0, 'right': 0, 'up': 0},\n",
       " (1, 0): {'left': 0, 'down': 1, 'right': 0, 'up': 0},\n",
       " (1, 1): {None: 1},\n",
       " (1, 2): {'left': 0, 'down': 1, 'right': 0, 'up': 0},\n",
       " (1, 3): {None: 1},\n",
       " (2, 0): {'left': 0, 'down': 0, 'right': 1, 'up': 0},\n",
       " (2, 1): {'left': 0, 'down': 1, 'right': 0, 'up': 0},\n",
       " (2, 2): {'left': 0, 'down': 1, 'right': 0, 'up': 0},\n",
       " (2, 3): {None: 1},\n",
       " (3, 0): {None: 1},\n",
       " (3, 1): {'left': 0, 'down': 0, 'right': 1, 'up': 0},\n",
       " (3, 2): {'left': 0, 'down': 0, 'right': 1, 'up': 0},\n",
       " (3, 3): {None: 1}}"
      ]
     },
     "execution_count": 99,
     "metadata": {},
     "output_type": "execute_result"
    }
   ],
   "source": [
    "policy"
   ]
  },
  {
   "cell_type": "code",
   "execution_count": 100,
   "id": "a5637e73-0476-4b50-8189-e74ff80c6d25",
   "metadata": {},
   "outputs": [
    {
     "name": "stdout",
     "output_type": "stream",
     "text": [
      "SFFF\n",
      "*HFH\n",
      "FFFH\n",
      "HFFG\n",
      "\n",
      "SFFF\n",
      "FHFH\n",
      "*FFH\n",
      "HFFG\n",
      "\n",
      "SFFF\n",
      "FHFH\n",
      "F*FH\n",
      "HFFG\n",
      "\n",
      "SFFF\n",
      "FHFH\n",
      "FFFH\n",
      "H*FG\n",
      "\n",
      "SFFF\n",
      "FHFH\n",
      "FFFH\n",
      "HF*G\n",
      "\n",
      "SFFF\n",
      "FHFH\n",
      "FFFH\n",
      "HFF*\n",
      "\n"
     ]
    }
   ],
   "source": [
    "total_reward = 0\n",
    "state = env.reset()\n",
    "for _ in range(1000):\n",
    "    action = np.random.choice(env.get_possible_actions(state), p=list(policy[state].values()))\n",
    "    state, reward, done, _ = env.step(action)\n",
    "    total_reward += reward\n",
    "    \n",
    "    env.render()\n",
    "    time.sleep(.5)\n",
    "    if done:\n",
    "        break"
   ]
  },
  {
   "cell_type": "code",
   "execution_count": 101,
   "id": "4608048b-776a-4e24-9430-0c18b309aca8",
   "metadata": {},
   "outputs": [
    {
     "data": {
      "text/plain": [
       "1.0"
      ]
     },
     "execution_count": 101,
     "metadata": {},
     "output_type": "execute_result"
    }
   ],
   "source": [
    "total_reward"
   ]
  }
 ],
 "metadata": {
  "kernelspec": {
   "display_name": "Python 3 (ipykernel)",
   "language": "python",
   "name": "python3"
  },
  "language_info": {
   "codemirror_mode": {
    "name": "ipython",
    "version": 3
   },
   "file_extension": ".py",
   "mimetype": "text/x-python",
   "name": "python",
   "nbconvert_exporter": "python",
   "pygments_lexer": "ipython3",
   "version": "3.9.7"
  }
 },
 "nbformat": 4,
 "nbformat_minor": 5
}
